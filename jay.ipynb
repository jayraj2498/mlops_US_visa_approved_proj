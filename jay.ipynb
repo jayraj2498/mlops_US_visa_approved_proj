{
 "cells": [
  {
   "cell_type": "code",
   "execution_count": 1,
   "metadata": {},
   "outputs": [
    {
     "name": "stdout",
     "output_type": "stream",
     "text": [
      "|-- us_visa/\n",
      "    |-- .dockerignore\n",
      "    |-- .gitignore\n",
      "    |-- app.py\n",
      "    |-- demo.py\n",
      "    |-- Dockerfile\n",
      "    |-- jay.ipynb\n",
      "    |-- LICENSE\n",
      "    |-- proj.txt\n",
      "    |-- README.md\n",
      "    |-- requirements.txt\n",
      "    |-- setup.py\n",
      "    |-- template.py\n",
      "    |-- .git/\n",
      "        |-- COMMIT_EDITMSG\n",
      "        |-- config\n",
      "        |-- description\n",
      "        |-- FETCH_HEAD\n",
      "        |-- HEAD\n",
      "        |-- index\n",
      "        |-- packed-refs\n",
      "        |-- hooks/\n",
      "            |-- applypatch-msg.sample\n",
      "            |-- commit-msg.sample\n",
      "            |-- fsmonitor-watchman.sample\n",
      "            |-- post-update.sample\n",
      "            |-- pre-applypatch.sample\n",
      "            |-- pre-commit.sample\n",
      "            |-- pre-merge-commit.sample\n",
      "            |-- pre-push.sample\n",
      "            |-- pre-rebase.sample\n",
      "            |-- pre-receive.sample\n",
      "            |-- prepare-commit-msg.sample\n",
      "            |-- push-to-checkout.sample\n",
      "            |-- sendemail-validate.sample\n",
      "            |-- update.sample\n",
      "        |-- info/\n",
      "            |-- exclude\n",
      "        |-- logs/\n",
      "            |-- HEAD\n",
      "            |-- refs/\n",
      "                |-- heads/\n",
      "                    |-- main\n",
      "                |-- remotes/\n",
      "                    |-- origin/\n",
      "                        |-- HEAD\n",
      "                        |-- main\n",
      "        |-- objects/\n",
      "            |-- 05/\n",
      "                |-- bde15a90c8bafb89d1606679cf567f8025d857\n",
      "            |-- 07/\n",
      "                |-- b4e6cfa76053d9bc0aa65dbaf505fa44961899\n",
      "            |-- 11/\n",
      "                |-- 5261bb72977ecb361ed443034307cc12f7140e\n",
      "            |-- 1e/\n",
      "                |-- 47cb40320a4800932950ddcf605b716fd6cb45\n",
      "                |-- 8b254b313124588ba18646f769a9476ff9690c\n",
      "            |-- 29/\n",
      "                |-- dc7df85d94fd0c8a0a0b13357cd226ac04a337\n",
      "            |-- 44/\n",
      "                |-- d01c7cc353891eacab1e6ed15d93916592e7f2\n",
      "            |-- 56/\n",
      "                |-- 80d20afbbc8904b71a953ee6e3d9388633227d\n",
      "            |-- 5d/\n",
      "                |-- c1ea23bdb3883cb25fc0f1e9b3c9fa61cc0a04\n",
      "            |-- 68/\n",
      "                |-- 8fe38da81033608eca4b53935266369c95002a\n",
      "            |-- 6e/\n",
      "                |-- 9e9ce3158abcb1d338485c8362f8efa66adfc6\n",
      "            |-- 74/\n",
      "                |-- 7ec7aa5b99514de95a8a03cff607d603b8bdd3\n",
      "            |-- 7e/\n",
      "                |-- a8479d465e912e0b9270abe63570d1db2cb63d\n",
      "            |-- 80/\n",
      "                |-- 35b28a39c5ee8fdea80abf0939b28b7065aa8b\n",
      "            |-- 81/\n",
      "                |-- 7a5b8573ce9bfac9b52b3d18f3e32c22e60f26\n",
      "            |-- 83/\n",
      "                |-- ea376c4663292fa773f16de09a3268e901ec00\n",
      "            |-- 96/\n",
      "                |-- 98e09497cfe05667262f6c1820fc09a8f93e0d\n",
      "            |-- 99/\n",
      "                |-- 9b9aad70cca381ed364c9cda6c13b6b1a6c941\n",
      "            |-- 9d/\n",
      "                |-- 1dcfdaf1a6857c5f83dc27019c7600e1ffaff8\n",
      "                |-- 69938711e7e504394965f9695576c762d4034f\n",
      "            |-- b1/\n",
      "                |-- 041b520ac8b9a184ca4228c845ba1c4a8f2111\n",
      "                |-- 7a02f844bda9d8c6785cfd2192f74d2a7de741\n",
      "            |-- bb/\n",
      "                |-- e4ade15ca74f7d740ac9364e1774209728a570\n",
      "            |-- cb/\n",
      "                |-- c2bf3b6afb751ba3186b682603b7e4d4df08d8\n",
      "            |-- ce/\n",
      "                |-- f93781cd0b19686a9a4c14291566184465d214\n",
      "            |-- dd/\n",
      "                |-- 8c11185aa6704fc46bf9499650f1842287f8b9\n",
      "            |-- e3/\n",
      "                |-- 774c00cc2f0504e3eb7da311cde7f67fb29062\n",
      "            |-- e6/\n",
      "                |-- 9de29bb2d1d6434b8b29ae775ad8c2e48c5391\n",
      "            |-- f3/\n",
      "                |-- bdcfcf87107ba7cb918ab75954eb0d8f1033a7\n",
      "            |-- info/\n",
      "            |-- pack/\n",
      "                |-- pack-be6611782207a45ebcae5512f6e35c8c37d704b0.idx\n",
      "                |-- pack-be6611782207a45ebcae5512f6e35c8c37d704b0.pack\n",
      "                |-- pack-be6611782207a45ebcae5512f6e35c8c37d704b0.rev\n",
      "        |-- refs/\n",
      "            |-- heads/\n",
      "                |-- main\n",
      "            |-- remotes/\n",
      "                |-- origin/\n",
      "                    |-- HEAD\n",
      "                    |-- main\n",
      "            |-- tags/\n",
      "    |-- config/\n",
      "        |-- model.yaml\n",
      "        |-- schema.yaml\n",
      "    |-- logs/\n",
      "    |-- notebook/\n",
      "        |-- mongodb.ipynb\n",
      "        |-- Visadataset.csv\n",
      "    |-- us_visa/\n",
      "        |-- __init__.py\n",
      "        |-- components/\n",
      "            |-- data_ingestion.py\n",
      "            |-- data_transformation.py\n",
      "            |-- data_validation.py\n",
      "            |-- model_evaluation.py\n",
      "            |-- model_pusher.py\n",
      "            |-- model_trainer.py\n",
      "            |-- __init__.py\n",
      "        |-- configuration/\n",
      "            |-- __init__.py\n",
      "        |-- constants/\n",
      "            |-- __init__.py\n",
      "        |-- entity/\n",
      "            |-- artifact_entity.py\n",
      "            |-- config_entity.py\n",
      "            |-- __init__.py\n",
      "        |-- exception/\n",
      "            |-- __init__.py\n",
      "        |-- logger/\n",
      "            |-- __init__.py\n",
      "            |-- __pycache__/\n",
      "                |-- __init__.cpython-311.pyc\n",
      "                |-- __init__.cpython-312.pyc\n",
      "        |-- pipline/\n",
      "            |-- prediction_pipeline.py\n",
      "            |-- training_pipeline.py\n",
      "            |-- __init__.py\n",
      "        |-- utils/\n",
      "            |-- main_utils.py\n",
      "            |-- __init__.py\n",
      "        |-- __pycache__/\n",
      "            |-- __init__.cpython-311.pyc\n",
      "            |-- __init__.cpython-312.pyc\n",
      "    |-- us_visa.egg-info/\n",
      "        |-- dependency_links.txt\n",
      "        |-- PKG-INFO\n",
      "        |-- SOURCES.txt\n",
      "        |-- top_level.txt\n"
     ]
    }
   ],
   "source": [
    "import os\n",
    "\n",
    "def display_folder_structure(startpath, indent_level=0):\n",
    "    for root, dirs, files in os.walk(startpath):\n",
    "        # Indent to show folder structure\n",
    "        level = root.replace(startpath, '').count(os.sep)\n",
    "        indent = ' ' * 4 * level\n",
    "        print(f\"{indent}|-- {os.path.basename(root)}/\")\n",
    "        \n",
    "        # Print all files in the current directory\n",
    "        sub_indent = ' ' * 4 * (level + 1)\n",
    "        for f in files:\n",
    "            print(f\"{sub_indent}|-- {f}\")\n",
    "\n",
    "# Set the starting folder (e.g., 'us_visa')\n",
    "start_directory = os.getcwd()  # or specify a path: \"E:/us_visa\"\n",
    "display_folder_structure(start_directory)\n"
   ]
  },
  {
   "cell_type": "code",
   "execution_count": 1,
   "metadata": {},
   "outputs": [
    {
     "name": "stdout",
     "output_type": "stream",
     "text": [
      "Current working directory: e:\\us_visa\n"
     ]
    }
   ],
   "source": [
    "import os\n",
    "print(f\"Current working directory: {os.getcwd()}\")\n"
   ]
  },
  {
   "cell_type": "code",
   "execution_count": 3,
   "metadata": {},
   "outputs": [
    {
     "name": "stdout",
     "output_type": "stream",
     "text": [
      "Logs will be saved at: logs\\09_20_2024_14_34_46.log\n"
     ]
    }
   ],
   "source": [
    "import logging\n",
    "import os \n",
    "from datetime import datetime\n",
    "from from_root import from_root\n",
    "\n",
    "LOG_FILE = f\"{datetime.now().strftime('%m_%d_%Y_%H_%M_%S')}.log\"\n",
    "\n",
    "log_dir = os.path.join(\"logs\")  # No need for from_root() if you want to save in current folder\n",
    "logs_path = os.path.join(log_dir, LOG_FILE)\n",
    "\n",
    "print(f\"Logs will be saved at: {logs_path}\")  # Check the final log path\n"
   ]
  },
  {
   "cell_type": "code",
   "execution_count": 4,
   "metadata": {},
   "outputs": [],
   "source": [
    "# Create directory if it doesn't exist\n",
    "os.makedirs(log_dir, exist_ok=True)\n",
    "\n",
    "# Configure logging\n",
    "logging.basicConfig(\n",
    "    filename=logs_path,\n",
    "    format=\"[ %(asctime)s ] %(name)s - %(levelname)s - %(message)s\",\n",
    "    level=logging.DEBUG,\n",
    ")\n",
    "\n",
    "# Log a test message\n",
    "logging.info(\"This is a test log message to verify logging setup.\")\n"
   ]
  },
  {
   "cell_type": "code",
   "execution_count": 5,
   "metadata": {},
   "outputs": [
    {
     "name": "stdout",
     "output_type": "stream",
     "text": [
      "Log path: C:\\Users\\Jayraj\\logs\\09_20_2024_14_34_46.log\n"
     ]
    }
   ],
   "source": [
    "logs_path = os.path.join(from_root(), log_dir, LOG_FILE)\n",
    "print(f\"Log path: {logs_path}\")\n"
   ]
  },
  {
   "cell_type": "code",
   "execution_count": 6,
   "metadata": {},
   "outputs": [],
   "source": [
    "os.makedirs(os.path.join(from_root(), log_dir), exist_ok=True)\n"
   ]
  },
  {
   "cell_type": "code",
   "execution_count": null,
   "metadata": {},
   "outputs": [],
   "source": []
  }
 ],
 "metadata": {
  "kernelspec": {
   "display_name": "visa",
   "language": "python",
   "name": "python3"
  },
  "language_info": {
   "codemirror_mode": {
    "name": "ipython",
    "version": 3
   },
   "file_extension": ".py",
   "mimetype": "text/x-python",
   "name": "python",
   "nbconvert_exporter": "python",
   "pygments_lexer": "ipython3",
   "version": "3.11.9"
  }
 },
 "nbformat": 4,
 "nbformat_minor": 2
}
